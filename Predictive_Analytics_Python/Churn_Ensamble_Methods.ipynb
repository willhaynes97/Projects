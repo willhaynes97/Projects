{
 "cells": [
  {
   "cell_type": "markdown",
   "metadata": {},
   "source": [
    "# Continue with the Churn Prediction.\n",
    "\n",
    "### K-Nearest Neighbours (KNN), Random Forest, Gradient Boosting, AdaBoost, Naive Bayes and Logistic regression models.\n",
    "    "
   ]
  },
  {
   "cell_type": "code",
   "execution_count": 10,
   "metadata": {},
   "outputs": [],
   "source": [
    "import pandas as pd\n",
    "from sklearn.model_selection import train_test_split\n",
    "from sklearn.metrics import roc_auc_score, f1_score\n",
    "from sklearn.naive_bayes import GaussianNB\n",
    "from sklearn.linear_model import LogisticRegression\n",
    "from sklearn.neighbors import KNeighborsClassifier as knn\n",
    "from sklearn.ensemble import RandomForestClassifier,\\\n",
    "GradientBoostingClassifier,AdaBoostClassifier\n",
    "from sklearn.model_selection import GridSearchCV\n",
    "from sklearn.metrics import confusion_matrix\n",
    "from sklearn.ensemble import VotingClassifier\n",
    "import numpy as np\n",
    "import matplotlib.pyplot as plt\n",
    "from sklearn.pipeline import Pipeline, FeatureUnion\n",
    "import warnings\n",
    "warnings.filterwarnings('ignore')\n",
    "from sklearn.base import BaseEstimator, TransformerMixin\n",
    "\n",
    "class OneHotEncoder(BaseEstimator, TransformerMixin):\n",
    "    \n",
    "    def __init__(self,col):\n",
    "        self.col = col\n",
    "                \n",
    "    def transform(self, X):\n",
    "        return pd.get_dummies(X[self.col]) \n",
    "\n",
    "    def fit(self, X, y=None):\n",
    "        return self  \n",
    "    \n",
    "# Stateless transformer for selecting a specified columns\n",
    "class DFSubsetSelector(BaseEstimator,TransformerMixin):\n",
    "    \n",
    "    def __init__(self,cols):\n",
    "        self.cols = cols\n",
    "        \n",
    "    def transform(self ,X):\n",
    "        return X[self.cols]\n",
    "    \n",
    "    def fit(self, X, y=None):\n",
    "        return self\n",
    "    \n",
    "class ConcatFeatures(BaseEstimator, TransformerMixin):\n",
    "    \n",
    "    def __init__(self,cols,sep=\"_\"):\n",
    "        self.cols = cols\n",
    "        self.sep = sep\n",
    "                \n",
    "    def transform(self, X):\n",
    "        concat_col = self.sep.join(self.cols)\n",
    "        return X.apply(lambda x : self.sep.join([x[col] for col in self.cols]) ,axis=1).to_frame(name = concat_col)\n",
    "\n",
    "    def fit(self, X, y=None):\n",
    "        return self  \n",
    "    \n",
    "# Transformer that does min-max transform on the specified columns\n",
    "class MinMaxTransform(BaseEstimator, TransformerMixin):\n",
    "\n",
    "    def __init__(self,cols=None):\n",
    "        self.cols = cols\n",
    "        self.minVec = np.zeros(len(cols))\n",
    "        self.maxVec = np.zeros(len(cols))\n",
    "       \n",
    "    def transform(self, X):\n",
    "        X[self.cols] = ((X[self.cols] - self.minVec)/(self.maxVec-self.minVec))\n",
    "        return X\n",
    "\n",
    "    def fit(self, X, y=None):\n",
    "        self.minVec = (df_train[self.cols].min())\n",
    "        self.maxVec = (df_train[self.cols].max())\n",
    "        return self\n",
    "\n",
    "df = pd.read_csv('hw5.csv', delimiter=',')\n",
    "\n",
    "#DONOT CHANGE THIS\n",
    "df_train = df.sample(frac=0.8,random_state=11)\n",
    "df_val = df.drop(df_train.index)\n",
    "\n",
    "\n",
    "X_train = df_train.drop(['Exited'],axis=1)\n",
    "y_train = df_train['Exited']\n",
    "X_val= df_val.drop(['Exited'],axis=1)\n",
    "y_val = df_val['Exited']\n",
    "\n",
    "continuous_vars = ['CreditScore','Age','Tenure','Balance','NumOfProducts','EstimatedSalary']\n",
    "cat_vars = ['HasCrCard','IsActiveMember',\"Geography\", \"Gender\"] \n",
    "\n",
    "#building the data-processing pipeline\n",
    "categorical_feature_pipeline = Pipeline([\n",
    "                                       ('categorical_selector' ,DFSubsetSelector(cat_vars)),\n",
    "                                        ('onehot',OneHotEncoder(cat_vars))])\n",
    "numerical_feature_pipeline = Pipeline([\n",
    "                                       ('numerical_selector' ,DFSubsetSelector(continuous_vars)),\n",
    "                                        ('normalization',MinMaxTransform(continuous_vars))])\n",
    "all_feature_preprocessor= FeatureUnion(transformer_list=[('numerical_preprocessor', numerical_feature_pipeline),\n",
    "                                                      ('categorical_preprocessor', categorical_feature_pipeline)])"
   ]
  },
  {
   "cell_type": "code",
   "execution_count": 22,
   "metadata": {},
   "outputs": [],
   "source": [
    "k_list = np.arange(49)+2\n",
    "val_list = []\n",
    "train_list = []\n",
    "for k in k_list:\n",
    "    classifier = Pipeline(steps = [('preprocessor', all_feature_preprocessor),\n",
    "                             ('classifier',knn(n_neighbors=k))])\n",
    "    classifier.fit(X_train,y_train)\n",
    "    prob_val = classifier.predict_proba(X_val)[:,1]\n",
    "    prob_train = classifier.predict_proba(X_train)[:,1]\n",
    "    auroc_val = roc_auc_score(y_val,prob_val)\n",
    "    auroc_train = roc_auc_score(y_train,prob_train)\n",
    "    val_list.append(auroc_val)\n",
    "    train_list.append(auroc_train)\n"
   ]
  },
  {
   "cell_type": "code",
   "execution_count": 85,
   "metadata": {},
   "outputs": [
    {
     "name": "stdout",
     "output_type": "stream",
     "text": [
      "The Best Validation AUROC is 0.8205577703831526 and uses k = 18\n"
     ]
    },
    {
     "data": {
      "image/png": "[encoded data removed]",
      "text/plain": [
       "<Figure size 432x288 with 1 Axes>"
      ]
     },
     "metadata": {
      "needs_background": "light"
     },
     "output_type": "display_data"
    }
   ],
   "source": [
    "import operator\n",
    "fig,ax = plt.subplots()\n",
    "ax.plot(k_list,train_list,'ro',label='Train AUROC')\n",
    "ax.plot(k_list,val_list,'bo',label='val AUROC')\n",
    "plt.xlabel('Number of Neighbors')\n",
    "plt.ylabel('AUROC')\n",
    "ax.legend()\n",
    "max_auroc_val = max(val_list)\n",
    "max_k = val_list.index(max(val_list))+2\n",
    "print ('The Best Validation AUROC is {} and uses k = {}' .format (max_auroc_val,max_k))"
   ]
  },
  {
   "cell_type": "code",
   "execution_count": 36,
   "metadata": {},
   "outputs": [
    {
     "name": "stdout",
     "output_type": "stream",
     "text": [
      "Ensamble With Soft Vote F1 Score: 0.523529\n",
      "Ensamble With Soft Vote auroc Score: 0.840481\n",
      "Ensamble With Majority Vote F1 Score: 0.486647\n"
     ]
    }
   ],
   "source": [
    "#KNN\n",
    "clf1 = Pipeline(steps = [('preprocessor', all_feature_preprocessor),\n",
    "                             ('classifier',knn(n_neighbors=max_k))])\n",
    "clf1.fit(X_train,y_train)\n",
    "clf1_pred = clf1.predict(X_val)\n",
    "clf1_f1 = round(f1_score(y_val,clf1_pred),6)\n",
    "clf1_probas = clf1.predict_proba(X_val)[:,1]\n",
    "clf1_rocaucscore = round(roc_auc_score(y_val,clf1_probas),6)\n",
    "# print('KNN F1 Score:',clf1_f1)\n",
    "# print('KNN auroc Score:',clf1_rocaucscore)\n",
    "\n",
    "#Naive Bayes\n",
    "clf2 = Pipeline(steps = [('preprocessor', all_feature_preprocessor),\n",
    "                             ('classifier',GaussianNB())])\n",
    "clf2.fit(X_train,y_train)\n",
    "clf2_pred = clf2.predict(X_val)\n",
    "clf2_f1 = round(f1_score(y_val,clf2_pred),6)\n",
    "clf2_probas = clf2.predict_proba(X_val)[:,1]\n",
    "clf2_rocaucscore = round(roc_auc_score(y_val,clf2_probas),6)\n",
    "# print('Naive Bayes F1 Score:',clf2_f1)\n",
    "# print('Naive Bayes auroc Score:',clf2_rocaucscore)\n",
    "\n",
    "#Logistic Regression\n",
    "clf3 = Pipeline(steps = [('preprocessor', all_feature_preprocessor),\n",
    "                             ('classifier',LogisticRegression(class_weight='balanced'))])\n",
    "clf3.fit(X_train,y_train)\n",
    "clf3_pred = clf3.predict(X_val)\n",
    "clf3_f1 = round(f1_score(y_val,clf3_pred),6)\n",
    "clf3_probas = clf3.predict_proba(X_val)[:,1]\n",
    "clf3_rocaucscore = round(roc_auc_score(y_val,clf3_probas),6)\n",
    "# print('Logistic Regression F1 Score:',clf3_f1)\n",
    "# print('Logistic Regression auroc Score:',clf3_rocaucscore)\n",
    "\n",
    "#Ensamble ny averaging posterior probabilities\n",
    "eclf1 = VotingClassifier(\n",
    "     estimators=[('KNN', clf1), ('Naive Bayes', clf2), ('Logistic Regression', clf3)],\n",
    "     voting='soft')\n",
    "eclf1.fit(X_train,y_train)\n",
    "eclf1_pred = eclf1.predict(X_val)\n",
    "eclf1_f1 = round(f1_score(y_val,eclf1_pred),6)\n",
    "eclf1_probas = eclf1.predict_proba(X_val)[:,1]\n",
    "eclf1_rocaucscore = round(roc_auc_score(y_val,eclf1_probas),6)\n",
    "print('Ensamble With Soft Vote F1 Score:',eclf1_f1)\n",
    "print('Ensamble With Soft Vote auroc Score:',eclf1_rocaucscore)\n",
    "\n",
    "#Ensamble With Majority Voting\n",
    "eclf2 = VotingClassifier(\n",
    "     estimators=[('KNN', clf1), ('Naive Bayes', clf2), ('Logistic Regression', clf3)],\n",
    "     voting='hard')\n",
    "eclf2.fit(X_train,y_train)\n",
    "eclf2_pred = eclf2.predict(X_val)\n",
    "eclf2_f1 = round(f1_score(y_val,eclf2_pred),6)\n",
    "print('Ensamble With Majority Vote F1 Score:',eclf2_f1)\n"
   ]
  },
  {
   "cell_type": "markdown",
   "metadata": {},
   "source": [
    "To enable threshold variations you need real outputs. In hard voting there is not real ouputs. If you average the outputs from each network (soft voting) rather than using majority voting (hard voting) you can get the ROC."
   ]
  },
  {
   "cell_type": "code",
   "execution_count": 42,
   "metadata": {},
   "outputs": [],
   "source": [
    "X_train2 = all_feature_preprocessor.fit_transform(X_train)\n",
    "X_val2 = all_feature_preprocessor.fit_transform(X_val)\n"
   ]
  },
  {
   "cell_type": "code",
   "execution_count": 73,
   "metadata": {},
   "outputs": [
    {
     "data": {
      "text/plain": [
       "{'criterion': 'entropy', 'max_features': 'sqrt', 'n_estimators': 400}"
      ]
     },
     "execution_count": 73,
     "metadata": {},
     "output_type": "execute_result"
    }
   ],
   "source": [
    "param_grid = {\n",
    "    'n_estimators' : [400,500,600,700],\n",
    "    'max_features' : ['sqrt','log2','auto'],\n",
    "    'criterion' : ['gini','entropy']\n",
    "} \n",
    "rf_grid = GridSearchCV(estimator = RandomForestClassifier(), param_grid = param_grid,cv=2)\n",
    "rf_grid.fit(X_train2, y_train)\n",
    "rf_grid.best_params_"
   ]
  },
  {
   "cell_type": "code",
   "execution_count": 74,
   "metadata": {},
   "outputs": [
    {
     "name": "stdout",
     "output_type": "stream",
     "text": [
      "THIS IS THE CONFUSION MATRIX BELOW\n",
      "\n",
      "[[ 206  207]\n",
      " [  49 1538]]\n"
     ]
    },
    {
     "data": {
      "image/png": "[encoded data removed]",
      "text/plain": [
       "<Figure size 432x288 with 2 Axes>"
      ]
     },
     "metadata": {
      "needs_background": "light"
     },
     "output_type": "display_data"
    }
   ],
   "source": [
    "# Confusion matrix for gradient boosting\n",
    "rf = RandomForestClassifier(n_estimators = 400 ,max_features = 'sqrt',criterion = 'entropy')\n",
    "rf.fit(X_train2,y_train)\n",
    "y_pred = rf.predict(X_val2)\n",
    "\n",
    "print(\"THIS IS THE CONFUSION MATRIX BELOW\")\n",
    "print(\"\")\n",
    "labels = [1, 0]\n",
    "cm = confusion_matrix(y_val, y_pred, labels)\n",
    "print(cm)\n",
    "fig = plt.figure()\n",
    "ax = fig.add_subplot(111)\n",
    "cax = ax.matshow(cm)\n",
    "plt.title('Confusion matrix of the classifier')\n",
    "fig.colorbar(cax)\n",
    "ax.set_xticklabels([''] + labels)\n",
    "ax.set_yticklabels([''] + labels)\n",
    "plt.xlabel('Predicted')\n",
    "plt.ylabel('True')\n",
    "plt.show()"
   ]
  },
  {
   "cell_type": "code",
   "execution_count": 75,
   "metadata": {},
   "outputs": [
    {
     "name": "stdout",
     "output_type": "stream",
     "text": [
      "Random Forest AUROC score = 0.8849634820446393\n"
     ]
    }
   ],
   "source": [
    "#Find AUROC for gradient boosting\n",
    "prob_rf = rf.predict_proba(X_val2)[:,1]\n",
    "auroc = roc_auc_score(y_val,prob_rf)\n",
    "print('Random Forest AUROC score =', auroc)"
   ]
  },
  {
   "cell_type": "code",
   "execution_count": 82,
   "metadata": {},
   "outputs": [
    {
     "data": {
      "image/png": "[encoded data removed]",
      "text/plain": [
       "<Figure size 432x288 with 1 Axes>"
      ]
     },
     "metadata": {
      "needs_background": "light"
     },
     "output_type": "display_data"
    },
    {
     "name": "stdout",
     "output_type": "stream",
     "text": [
      "1. feature 1 (0.232934)\n",
      "2. feature 5 (0.153876)\n",
      "3. feature 0 (0.151601)\n",
      "4. feature 3 (0.144152)\n",
      "5. feature 4 (0.116493)\n",
      "6. feature 2 (0.091509)\n",
      "7. feature 7 (0.033766)\n",
      "8. feature 6 (0.019601)\n",
      "9. feature 9 (0.017799)\n",
      "10. feature 8 (0.010600)\n",
      "11. feature 10 (0.009491)\n",
      "12. feature 11 (0.009221)\n",
      "13. feature 12 (0.008956)\n"
     ]
    }
   ],
   "source": [
    "# Plot the Feature importance for random forest\n",
    "importances = rf.feature_importances_\n",
    "indices = np.argsort(importances)[::-1]\n",
    "\n",
    "plt.figure()\n",
    "plt.title(\"Feature importances for Random Forest\")\n",
    "plt.bar(range(X_train2.shape[1]), importances[indices],\n",
    "       color=\"r\", align=\"center\")\n",
    "plt.xticks(range(X_train2.shape[1]), indices)\n",
    "plt.xlim([-1, X_train2.shape[1]])\n",
    "plt.show()\n",
    "\n",
    "for f in range(X_train2.shape[1]):\n",
    "    print(\"%d. feature %d (%f)\" % (f + 1, indices[f], importances[indices[f]]))"
   ]
  },
  {
   "cell_type": "code",
   "execution_count": 47,
   "metadata": {},
   "outputs": [
    {
     "data": {
      "text/plain": [
       "{'learning_rate': 0.15, 'max_depth': 2, 'n_estimators': 90}"
      ]
     },
     "execution_count": 47,
     "metadata": {},
     "output_type": "execute_result"
    }
   ],
   "source": [
    "param_grid = {\n",
    "    'n_estimators' : [70,80,90,100],\n",
    "    'learning_rate' : [0.1,0.15,0.2],\n",
    "    'max_depth' : [2,3,4,5]\n",
    "} \n",
    "boost_grid = GridSearchCV(estimator = GradientBoostingClassifier(), param_grid = param_grid,cv=2)\n",
    "boost_grid.fit(X_train2, y_train)\n",
    "boost_grid.best_params_"
   ]
  },
  {
   "cell_type": "code",
   "execution_count": 61,
   "metadata": {},
   "outputs": [
    {
     "name": "stdout",
     "output_type": "stream",
     "text": [
      "THIS IS THE CONFUSION MATRIX BELOW\n",
      "\n",
      "[[ 204  209]\n",
      " [  55 1532]]\n"
     ]
    },
    {
     "data": {
      "image/png": "[encoded data removed]",
      "text/plain": [
       "<Figure size 432x288 with 2 Axes>"
      ]
     },
     "metadata": {
      "needs_background": "light"
     },
     "output_type": "display_data"
    }
   ],
   "source": [
    "# Confusion matrix for gradient boosting\n",
    "boost = GradientBoostingClassifier(max_depth = 2, n_estimators = 90,learning_rate = 0.15)\n",
    "boost.fit(X_train2,y_train)\n",
    "y_pred = boost.predict(X_val2)\n",
    "\n",
    "from sklearn.metrics import confusion_matrix\n",
    "\n",
    "print(\"THIS IS THE CONFUSION MATRIX BELOW\")\n",
    "print(\"\")\n",
    "labels = [1, 0]\n",
    "cm = confusion_matrix(y_val, y_pred, labels)\n",
    "print(cm)\n",
    "fig = plt.figure()\n",
    "ax = fig.add_subplot(111)\n",
    "cax = ax.matshow(cm)\n",
    "plt.title('Confusion matrix of the classifier')\n",
    "fig.colorbar(cax)\n",
    "ax.set_xticklabels([''] + labels)\n",
    "ax.set_yticklabels([''] + labels)\n",
    "plt.xlabel('Predicted')\n",
    "plt.ylabel('True')\n",
    "plt.show()"
   ]
  },
  {
   "cell_type": "code",
   "execution_count": 53,
   "metadata": {},
   "outputs": [
    {
     "name": "stdout",
     "output_type": "stream",
     "text": [
      "Gradient Boosting AUROC score = 0.8902699139955235\n"
     ]
    }
   ],
   "source": [
    "#Find AUROC for gradient boosting\n",
    "prob_boost = boost.predict_proba(X_val2)[:,1]\n",
    "auroc = roc_auc_score(y_val,prob_boost)\n",
    "print('Gradient Boosting AUROC score =', auroc)"
   ]
  },
  {
   "cell_type": "code",
   "execution_count": 83,
   "metadata": {},
   "outputs": [
    {
     "data": {
      "image/png": "[encoded data removed]",
      "text/plain": [
       "<Figure size 432x288 with 1 Axes>"
      ]
     },
     "metadata": {
      "needs_background": "light"
     },
     "output_type": "display_data"
    },
    {
     "name": "stdout",
     "output_type": "stream",
     "text": [
      "1. feature 1 (0.400910)\n",
      "2. feature 4 (0.327650)\n",
      "3. feature 7 (0.122606)\n",
      "4. feature 3 (0.063895)\n",
      "5. feature 9 (0.047496)\n",
      "6. feature 0 (0.015685)\n",
      "7. feature 11 (0.007694)\n",
      "8. feature 12 (0.007518)\n",
      "9. feature 5 (0.005181)\n",
      "10. feature 2 (0.000961)\n",
      "11. feature 8 (0.000404)\n",
      "12. feature 10 (0.000000)\n",
      "13. feature 6 (0.000000)\n"
     ]
    }
   ],
   "source": [
    "# Plot the Feature importance for graident boosting\n",
    "importances = boost.feature_importances_\n",
    "indices = np.argsort(importances)[::-1]\n",
    "\n",
    "plt.figure()\n",
    "plt.title(\"Feature importances for graident boosting\")\n",
    "plt.bar(range(X_train2.shape[1]), importances[indices],\n",
    "       color=\"r\", align=\"center\")\n",
    "plt.xticks(range(X_train2.shape[1]), indices)\n",
    "plt.xlim([-1, X_train2.shape[1]])\n",
    "plt.show()\n",
    "\n",
    "for f in range(X_train2.shape[1]):\n",
    "    print(\"%d. feature %d (%f)\" % (f + 1, indices[f], importances[indices[f]]))"
   ]
  },
  {
   "cell_type": "code",
   "execution_count": 57,
   "metadata": {},
   "outputs": [
    {
     "data": {
      "text/plain": [
       "{'learning_rate': 0.3, 'n_estimators': 250}"
      ]
     },
     "execution_count": 57,
     "metadata": {},
     "output_type": "execute_result"
    }
   ],
   "source": [
    "param_grid = {\n",
    "    'n_estimators' : [225,250,265,275],\n",
    "    'learning_rate' : [0.25,0.3,0.35,0.4]\n",
    "} \n",
    "adaboost_grid = GridSearchCV(estimator = AdaBoostClassifier(), param_grid = param_grid,cv=2)\n",
    "adaboost_grid.fit(X_train2, y_train)\n",
    "adaboost_grid.best_params_"
   ]
  },
  {
   "cell_type": "code",
   "execution_count": 62,
   "metadata": {},
   "outputs": [
    {
     "name": "stdout",
     "output_type": "stream",
     "text": [
      "THIS IS THE CONFUSION MATRIX BELOW\n",
      "\n",
      "[[ 203  210]\n",
      " [  61 1526]]\n"
     ]
    },
    {
     "data": {
      "image/png": "[encoded data removed]",
      "text/plain": [
       "<Figure size 432x288 with 2 Axes>"
      ]
     },
     "metadata": {
      "needs_background": "light"
     },
     "output_type": "display_data"
    }
   ],
   "source": [
    "# Confusion matrix for  adaboosting\n",
    "adaboost = AdaBoostClassifier(n_estimators = 250,learning_rate = 0.3)\n",
    "adaboost.fit(X_train2,y_train)\n",
    "y_pred = adaboost.predict(X_val2)\n",
    "\n",
    "print(\"THIS IS THE CONFUSION MATRIX BELOW\")\n",
    "print(\"\")\n",
    "labels = [1, 0]\n",
    "cm = confusion_matrix(y_val, y_pred, labels)\n",
    "print(cm)\n",
    "fig = plt.figure()\n",
    "ax = fig.add_subplot(111)\n",
    "cax = ax.matshow(cm)\n",
    "plt.title('Confusion matrix of the classifier')\n",
    "fig.colorbar(cax)\n",
    "ax.set_xticklabels([''] + labels)\n",
    "ax.set_yticklabels([''] + labels)\n",
    "plt.xlabel('Predicted')\n",
    "plt.ylabel('True')\n",
    "plt.show()\n"
   ]
  },
  {
   "cell_type": "code",
   "execution_count": 63,
   "metadata": {},
   "outputs": [
    {
     "name": "stdout",
     "output_type": "stream",
     "text": [
      "ADABoost AUROC score = 0.8712160395220854\n"
     ]
    }
   ],
   "source": [
    "#Find AUROC for gradient boosting\n",
    "prob_adaboost = adaboost.predict_proba(X_val2)[:,1]\n",
    "auroc = roc_auc_score(y_val,prob_adaboost)\n",
    "print('ADABoost AUROC score =', auroc)"
   ]
  },
  {
   "cell_type": "code",
   "execution_count": 84,
   "metadata": {},
   "outputs": [
    {
     "data": {
      "image/png": "[encoded data removed]",
      "text/plain": [
       "<Figure size 432x288 with 1 Axes>"
      ]
     },
     "metadata": {
      "needs_background": "light"
     },
     "output_type": "display_data"
    },
    {
     "name": "stdout",
     "output_type": "stream",
     "text": [
      "1. feature 1 (0.232000)\n",
      "2. feature 3 (0.228000)\n",
      "3. feature 5 (0.212000)\n",
      "4. feature 0 (0.104000)\n",
      "5. feature 4 (0.100000)\n",
      "6. feature 7 (0.040000)\n",
      "7. feature 9 (0.036000)\n",
      "8. feature 12 (0.016000)\n",
      "9. feature 11 (0.016000)\n",
      "10. feature 2 (0.016000)\n",
      "11. feature 10 (0.000000)\n",
      "12. feature 8 (0.000000)\n",
      "13. feature 6 (0.000000)\n"
     ]
    }
   ],
   "source": [
    "# Plot the Feature importance for adaboost\n",
    "importances = adaboost.feature_importances_\n",
    "indices = np.argsort(importances)[::-1]\n",
    "\n",
    "plt.figure()\n",
    "plt.title(\"Feature importances for graident boosting\")\n",
    "plt.bar(range(X_train2.shape[1]), importances[indices],\n",
    "       color=\"r\", align=\"center\")\n",
    "plt.xticks(range(X_train2.shape[1]), indices)\n",
    "plt.xlim([-1, X_train2.shape[1]])\n",
    "plt.show()\n",
    "\n",
    "for f in range(X_train2.shape[1]):\n",
    "    print(\"%d. feature %d (%f)\" % (f + 1, indices[f], importances[indices[f]]))"
   ]
  },
  {
   "cell_type": "markdown",
   "metadata": {},
   "source": [
    "### Conclusions\n",
    "\n",
    "Random Forest tackles the error reduction task by reducing variance. Therefore Random Forest is harder to overfit than Gradient Booting decision trees.\n",
    "\n",
    "Boosting reduces error mainly by reducing bias. Boosting uses weak learners (high bias, low variance). Each weak classifier is trained to improve the already trained ensemble. Therefore Gradient boosting is more effective with large datasets with high dimensions."
   ]
  },
  {
   "cell_type": "code",
   "execution_count": null,
   "metadata": {},
   "outputs": [],
   "source": []
  }
 ],
 "metadata": {
  "kernelspec": {
   "display_name": "Python 3",
   "language": "python",
   "name": "python3"
  },
  "language_info": {
   "codemirror_mode": {
    "name": "ipython",
    "version": 3
   },
   "file_extension": ".py",
   "mimetype": "text/x-python",
   "name": "python",
   "nbconvert_exporter": "python",
   "pygments_lexer": "ipython3",
   "version": "3.7.6"
  }
 },
 "nbformat": 4,
 "nbformat_minor": 4
}
