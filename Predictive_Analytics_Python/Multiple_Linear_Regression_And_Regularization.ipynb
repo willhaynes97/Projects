{
 "cells": [
  {
   "cell_type": "markdown",
   "metadata": {},
   "source": [
    "## Multiple Linear Regression in Python\n",
    "\n",
    "This dataset is taken from https://www.kaggle.com/camnugent/california-housing-prices/version/1. I have removed the categorical variables and rows with missing variables to make it easier to run the models. \n"
   ]
  },
  {
   "cell_type": "code",
   "execution_count": 3,
   "metadata": {},
   "outputs": [],
   "source": [
    "from sklearn import linear_model\n",
    "from sklearn.metrics import mean_absolute_error\n",
    "import numpy as np\n",
    "import pandas as pd\n",
    "pd.options.mode.chained_assignment = None\n",
    "\n",
    "\n",
    "train_df = pd.read_csv(\"C:\\\\Users\\\\12103\\\\Desktop\\\\Data\\\\reduced_data.csv\")\n",
    "X = train_df.drop(['median_house_value'],axis=1)\n",
    "Y = train_df['median_house_value']"
   ]
  },
  {
   "cell_type": "code",
   "execution_count": 6,
   "metadata": {},
   "outputs": [
    {
     "name": "stdout",
     "output_type": "stream",
     "text": [
      "(20433, 8)\n",
      "   longitude  latitude  housing_median_age  total_rooms  total_bedrooms  \\\n",
      "0    -122.23     37.88                41.0        880.0           129.0   \n",
      "1    -122.22     37.86                21.0       7099.0          1106.0   \n",
      "2    -122.24     37.85                52.0       1467.0           190.0   \n",
      "3    -122.25     37.85                52.0       1274.0           235.0   \n",
      "4    -122.25     37.85                52.0       1627.0           280.0   \n",
      "\n",
      "   population  households  median_income  \n",
      "0       322.0       126.0         8.3252  \n",
      "1      2401.0      1138.0         8.3014  \n",
      "2       496.0       177.0         7.2574  \n",
      "3       558.0       219.0         5.6431  \n",
      "4       565.0       259.0         3.8462  \n"
     ]
    }
   ],
   "source": [
    "print(X.shape)\n",
    "print(X.head())"
   ]
  },
  {
   "cell_type": "code",
   "execution_count": 11,
   "metadata": {},
   "outputs": [
    {
     "name": "stdout",
     "output_type": "stream",
     "text": [
      "Coefficients: \n",
      " [-4.27301205e+04 -4.25097369e+04  1.15790031e+03 -8.24972507e+00\n",
      "  1.13820707e+02 -3.83855780e+01  4.77013513e+01  4.02975217e+04]\n",
      "Mean absolute error: 50799.63\n"
     ]
    }
   ],
   "source": [
    "reg = linear_model.LinearRegression()\n",
    "reg.fit(X,Y)\n",
    "Y_pred = reg.predict(X)\n",
    "# The coefficients\n",
    "print('Coefficients: \\n', reg.coef_)\n",
    "# The mean squared error\n",
    "print(\"Mean absolute error: %.2f\"\n",
    "      % mean_absolute_error(Y, Y_pred))"
   ]
  },
  {
   "cell_type": "code",
   "execution_count": 17,
   "metadata": {},
   "outputs": [
    {
     "name": "stdout",
     "output_type": "stream",
     "text": [
      "Mean absolute error train: 50749.10\n",
      "Mean absolute error test: 50916.74\n"
     ]
    }
   ],
   "source": [
    "from sklearn.model_selection import train_test_split\n",
    "X_train, X_test, Y_train, Y_test = train_test_split(X, Y, test_size=0.3, random_state=11)\n",
    "reg_2 = linear_model.LinearRegression()\n",
    "reg_2.fit(X_train, Y_train)\n",
    "# Predict using training set\n",
    "Y_train_pred = reg_2.predict(X_train)\n",
    "# Predict using test set\n",
    "Y_test_pred = reg_2.predict(X_test)\n",
    "# The mean squared errors\n",
    "print(\"Mean absolute error train: %.2f\"\n",
    "      % mean_absolute_error(Y_train, Y_train_pred))\n",
    "print(\"Mean absolute error test: %.2f\"\n",
    "      % mean_absolute_error(Y_test, Y_test_pred))"
   ]
  },
  {
   "cell_type": "code",
   "execution_count": 116,
   "metadata": {},
   "outputs": [
    {
     "name": "stdout",
     "output_type": "stream",
     "text": [
      "                    longitude  latitude  housing_median_age  total_rooms  \\\n",
      "longitude            1.000000 -0.925627           -0.111272     0.042788   \n",
      "latitude            -0.925627  1.000000            0.013098    -0.034147   \n",
      "housing_median_age  -0.111272  0.013098            1.000000    -0.356534   \n",
      "total_rooms          0.042788 -0.034147           -0.356534     1.000000   \n",
      "total_bedrooms       0.069305 -0.066424           -0.316644     0.927454   \n",
      "population           0.101596 -0.109600           -0.294652     0.859323   \n",
      "households           0.056116 -0.070537           -0.298702     0.916556   \n",
      "median_income       -0.020466 -0.074943           -0.115736     0.198486   \n",
      "average_bedrooms     0.017548  0.062059           -0.077163     0.036170   \n",
      "average_rooms       -0.027099  0.104294           -0.158539     0.146227   \n",
      "average_population   0.011811 -0.002330            0.012569    -0.031031   \n",
      "\n",
      "                    total_bedrooms  population  households  median_income  \\\n",
      "longitude                 0.069305    0.101596    0.056116      -0.020466   \n",
      "latitude                 -0.066424   -0.109600   -0.070537      -0.074943   \n",
      "housing_median_age       -0.316644   -0.294652   -0.298702      -0.115736   \n",
      "total_rooms               0.927454    0.859323    0.916556       0.198486   \n",
      "total_bedrooms            1.000000    0.880929    0.979547      -0.013082   \n",
      "population                0.880929    1.000000    0.910283      -0.001523   \n",
      "households                0.979547    0.910283    1.000000       0.008033   \n",
      "median_income            -0.013082   -0.001523    0.008033       1.000000   \n",
      "average_bedrooms          0.054525   -0.062026   -0.050050      -0.059447   \n",
      "average_rooms             0.004237   -0.072951   -0.081950       0.350785   \n",
      "average_population       -0.036556    0.077684   -0.034892       0.000417   \n",
      "\n",
      "                    average_bedrooms  average_rooms  average_population  \n",
      "longitude                   0.017548      -0.027099            0.011811  \n",
      "latitude                    0.062059       0.104294           -0.002330  \n",
      "housing_median_age         -0.077163      -0.158539            0.012569  \n",
      "total_rooms                 0.036170       0.146227           -0.031031  \n",
      "total_bedrooms              0.054525       0.004237           -0.036556  \n",
      "population                 -0.062026      -0.072951            0.077684  \n",
      "households                 -0.050050      -0.081950           -0.034892  \n",
      "median_income              -0.059447       0.350785            0.000417  \n",
      "average_bedrooms            1.000000       0.833841           -0.002194  \n",
      "average_rooms               0.833841       1.000000            0.003475  \n",
      "average_population         -0.002194       0.003475            1.000000  \n"
     ]
    }
   ],
   "source": [
    "print(X_train.corr(method='pearson'))"
   ]
  },
  {
   "cell_type": "markdown",
   "metadata": {},
   "source": [
    "## Independent variables having correlation greater than 0.9 w.r.t 'households': population, total_bedrooms, and total_rooms\n",
    "\n"
   ]
  },
  {
   "cell_type": "code",
   "execution_count": 117,
   "metadata": {},
   "outputs": [
    {
     "name": "stdout",
     "output_type": "stream",
     "text": [
      "                    longitude  latitude  housing_median_age  total_rooms  \\\n",
      "longitude            1.000000 -0.925627           -0.111272     0.042788   \n",
      "latitude            -0.925627  1.000000            0.013098    -0.034147   \n",
      "housing_median_age  -0.111272  0.013098            1.000000    -0.356534   \n",
      "total_rooms          0.042788 -0.034147           -0.356534     1.000000   \n",
      "total_bedrooms       0.069305 -0.066424           -0.316644     0.927454   \n",
      "population           0.101596 -0.109600           -0.294652     0.859323   \n",
      "households           0.056116 -0.070537           -0.298702     0.916556   \n",
      "median_income       -0.020466 -0.074943           -0.115736     0.198486   \n",
      "average_bedrooms     0.017548  0.062059           -0.077163     0.036170   \n",
      "average_rooms       -0.027099  0.104294           -0.158539     0.146227   \n",
      "average_population   0.011811 -0.002330            0.012569    -0.031031   \n",
      "\n",
      "                    total_bedrooms  population  households  median_income  \\\n",
      "longitude                 0.069305    0.101596    0.056116      -0.020466   \n",
      "latitude                 -0.066424   -0.109600   -0.070537      -0.074943   \n",
      "housing_median_age       -0.316644   -0.294652   -0.298702      -0.115736   \n",
      "total_rooms               0.927454    0.859323    0.916556       0.198486   \n",
      "total_bedrooms            1.000000    0.880929    0.979547      -0.013082   \n",
      "population                0.880929    1.000000    0.910283      -0.001523   \n",
      "households                0.979547    0.910283    1.000000       0.008033   \n",
      "median_income            -0.013082   -0.001523    0.008033       1.000000   \n",
      "average_bedrooms          0.054525   -0.062026   -0.050050      -0.059447   \n",
      "average_rooms             0.004237   -0.072951   -0.081950       0.350785   \n",
      "average_population       -0.036556    0.077684   -0.034892       0.000417   \n",
      "\n",
      "                    average_bedrooms  average_rooms  average_population  \n",
      "longitude                   0.017548      -0.027099            0.011811  \n",
      "latitude                    0.062059       0.104294           -0.002330  \n",
      "housing_median_age         -0.077163      -0.158539            0.012569  \n",
      "total_rooms                 0.036170       0.146227           -0.031031  \n",
      "total_bedrooms              0.054525       0.004237           -0.036556  \n",
      "population                 -0.062026      -0.072951            0.077684  \n",
      "households                 -0.050050      -0.081950           -0.034892  \n",
      "median_income              -0.059447       0.350785            0.000417  \n",
      "average_bedrooms            1.000000       0.833841           -0.002194  \n",
      "average_rooms               0.833841       1.000000            0.003475  \n",
      "average_population         -0.002194       0.003475            1.000000  \n"
     ]
    }
   ],
   "source": [
    "# average_bedrooms = total_bedrooms/households\n",
    "X_train['average_bedrooms'] = X_train['total_bedrooms']/X_train['households']\n",
    "X_test['average_bedrooms'] = X_test['total_bedrooms']/X_test['households']\n",
    "#average_rooms = total_rooms/households\n",
    "X_train['average_rooms'] = X_train['total_rooms']/X_train['households']\n",
    "X_test['average_rooms'] = X_test['total_rooms']/X_test['households']\n",
    "#average_population = population/households\n",
    "X_train['average_population'] = X_train['population']/X_train['households']\n",
    "X_test['average_population'] = X_test['population']/X_test['households']\n",
    "\n",
    "\n",
    "print(X_train.corr(method='pearson'))"
   ]
  },
  {
   "cell_type": "markdown",
   "metadata": {},
   "source": [
    "## Observation: The new variables (average_bedrooms, average_rooms, and average_population) are not correlated with households."
   ]
  },
  {
   "cell_type": "code",
   "execution_count": 27,
   "metadata": {},
   "outputs": [
    {
     "name": "stdout",
     "output_type": "stream",
     "text": [
      "Mean absolute error train: 50474.27\n",
      "Mean absolute error test: 50783.97\n"
     ]
    }
   ],
   "source": [
    "reg_3 = linear_model.LinearRegression()\n",
    "reg_3.fit(X_train, Y_train)\n",
    "# Predict using training set\n",
    "Y_train_pred = reg_3.predict(X_train)\n",
    "# Predict using test set\n",
    "Y_test_pred = reg_3.predict(X_test)\n",
    "# The mean squared errors\n",
    "print(\"Mean absolute error train: %.2f\"\n",
    "      % mean_absolute_error(Y_train, Y_train_pred))\n",
    "print(\"Mean absolute error test: %.2f\"\n",
    "      % mean_absolute_error(Y_test, Y_test_pred))"
   ]
  },
  {
   "cell_type": "markdown",
   "metadata": {},
   "source": [
    "# Ridge and Lasso Regression \n",
    "\n",
    "Using the same data as before. \n",
    "\n",
    "Scaled the data so that the independent variables have zero mean and unit variance.  \n",
    "The reason we scale the data before regularization because the constraint value depends on the magnitude of each variable. If the independent variables does not have the same scale, the shrinking is not similar across the variables and thus the coefficients of your regularization will be dependent on the units of your variables. Obviously it is not good to have your model differ depending on what units being used because that's an arbitrary standard. "
   ]
  },
  {
   "cell_type": "code",
   "execution_count": 99,
   "metadata": {},
   "outputs": [],
   "source": [
    "from sklearn.linear_model import LinearRegression, Lasso, Ridge, RidgeCV, LassoCV\n",
    "from sklearn.preprocessing import scale\n",
    "\n",
    "column_names = list(X_train.columns.values)\n",
    "\n",
    "X_train_scaled = scale(X_train)\n",
    "X_train_scaled = pd.DataFrame(X_train_scaled, columns = column_names)\n",
    "X_test_scaled = scale(X_test)\n",
    "X_test_scaled = pd.DataFrame(X_test_scaled, columns = column_names)\n"
   ]
  },
  {
   "cell_type": "markdown",
   "metadata": {},
   "source": [
    "## Using sklearn.linear_model.Lasso and sklearn.linear_model.Ridge classes to do a [5-fold cross validation](http://scikit-learn.org/stable/auto_examples/exercises/plot_cv_diabetes.html#example-exercises-plot-cv-diabetes-py) using sklearn's [KFold](http://scikit-learn.org/stable/modules/generated/sklearn.cross_validation.KFold.html). \n",
    "For the sweep of the regularization parameter, we will look at a grid of values ranging from $\\lambda = 10^{10}$ to $\\lambda = 10^{-2}$.\n"
   ]
  },
  {
   "cell_type": "code",
   "execution_count": 95,
   "metadata": {},
   "outputs": [
    {
     "name": "stdout",
     "output_type": "stream",
     "text": [
      "Alpha with lowest mean absolute error for Lasso: 0.0050\n",
      "Alpha with lowest mean absolute error for Ridge: 37.8232\n"
     ]
    }
   ],
   "source": [
    "from sklearn.model_selection import cross_val_score\n",
    "import numpy as np\n",
    "\n",
    "alphas =  10**np.linspace(10,-2,100)*0.5\n",
    "n_folds = 5\n",
    "\n",
    "lasso_cv_scores = []\n",
    "ridge_cv_scores = []\n",
    "\n",
    "for alpha in alphas:\n",
    "    # Lasso CV\n",
    "    lasso_clf = Lasso(alpha=alpha)\n",
    "    scores = cross_val_score(lasso_clf, X_train_scaled, Y_train, cv=n_folds, scoring='neg_mean_absolute_error')\n",
    "    lasso_cv_scores.append(scores.mean())\n",
    "    \n",
    "    # Ridge CV\n",
    "    ridge_clf = Ridge(alpha=alpha)\n",
    "    scores = cross_val_score(ridge_clf, X_train_scaled, Y_train, cv=n_folds, scoring='neg_mean_absolute_error')\n",
    "    ridge_cv_scores.append(scores.mean())    \n",
    "    \n",
    "\n",
    "# Alpha with lowest mean absolute error for Lasso\n",
    "lasso_idx_min_score = lasso_cv_scores.index(max(lasso_cv_scores))\n",
    "print(\"Alpha with lowest mean absolute error for Lasso: %.4f\"\n",
    "      % alphas[lasso_idx_min_score])\n",
    "\n",
    "# Alpha with lowest mean absolute error for Ridge\n",
    "ridge_idx_min_score = ridge_cv_scores.index(max(ridge_cv_scores))\n",
    "print(\"Alpha with lowest mean absolute error for Ridge: %.4f\"\n",
    "      % alphas[ridge_idx_min_score])\n",
    "\n"
   ]
  },
  {
   "cell_type": "code",
   "execution_count": 124,
   "metadata": {},
   "outputs": [],
   "source": [
    "from matplotlib import pyplot as plt\n",
    "#Plotting ridge coefficents as a function of the regularization\n",
    "\n",
    "ridge_alpha_list = list()\n",
    "for alpha in alphas:\n",
    "    ridge = Ridge(alpha=alpha)\n",
    "    ridge.fit(X_train_scaled, Y_train)\n",
    "    ridge_alpha_list.append(ridge.coef_)\n",
    "    Y_train_pred = ridge.predict(X_train_scaled)        \n",
    "\n",
    "df_ridge = pd.DataFrame(np.array(ridge_alpha_list),columns = column_names)\n",
    "df_ridge.set_index(alphas)\n",
    "\n",
    "df_ridge.plot()\n",
    "plt.show()\n"
   ]
  },
  {
   "cell_type": "code",
   "execution_count": 120,
   "metadata": {},
   "outputs": [
    {
     "data": {
      "image/png": "[encoded data removed]",
      "text/plain": [
       "<Figure size 432x288 with 1 Axes>"
      ]
     },
     "metadata": {
      "needs_background": "light"
     },
     "output_type": "display_data"
    }
   ],
   "source": [
    "#Plotting lasso coefficents as a function of the regularization\n",
    "lasso_alpha_list = list()\n",
    "for alpha in alphas:\n",
    "    lasso = Lasso(alpha=alpha)\n",
    "    lasso.fit(X_train_scaled, Y_train)\n",
    "    lasso_alpha_list.append(lasso.coef_)\n",
    "    Y_train_pred = lasso.predict(X_train_scaled)        \n",
    "\n",
    "df_lasso = pd.DataFrame(np.array(lasso_alpha_list),columns = column_names)\n",
    "df_lasso.set_index(alphas)\n",
    "\n",
    "df_lasso.plot()\n",
    "plt.show()"
   ]
  },
  {
   "cell_type": "code",
   "execution_count": 113,
   "metadata": {},
   "outputs": [
    {
     "name": "stdout",
     "output_type": "stream",
     "text": [
      "Least squares mean absolute error test: 50682.3976\n",
      "Lasso mean absolute error test with (alpha=0.005) : 50682.3972\n",
      "Ridge mean absolute error test with (alpha=37.8232) : 50635.1150\n"
     ]
    }
   ],
   "source": [
    "# Least Squares Regression\n",
    "new_reg = linear_model.LinearRegression()\n",
    "new_reg.fit(X_train_scaled, Y_train)\n",
    "# Predict using test set\n",
    "Y_test_scaled_pred = new_reg.predict(X_test_scaled)\n",
    "print(\"Least squares mean absolute error test: %.4f\"\n",
    "      % mean_absolute_error(Y_test, Y_test_scaled_pred))\n",
    "\n",
    "# Lasso\n",
    "new_lasso = Lasso(alpha=alphas[lasso_idx_min_score])\n",
    "new_lasso.fit(X_train_scaled, Y_train)\n",
    "# Predict using test set\n",
    "Y_test_scaled_pred = new_lasso.predict(X_test_scaled)\n",
    "print(\"Lasso mean absolute error test with (alpha=0.005) : %.4f\"\n",
    "      % mean_absolute_error(Y_test, Y_test_scaled_pred))\n",
    "\n",
    "# Lasso\n",
    "new_ridge = Ridge(alpha=alphas[ridge_idx_min_score])\n",
    "new_ridge.fit(X_train_scaled, Y_train)\n",
    "# Predict using test set\n",
    "Y_test_scaled_pred = new_ridge.predict(X_test_scaled)\n",
    "print(\"Ridge mean absolute error test with (alpha=37.8232) : %.4f\"\n",
    "      % mean_absolute_error(Y_test, Y_test_scaled_pred))\n"
   ]
  },
  {
   "cell_type": "markdown",
   "metadata": {},
   "source": [
    "## Running lasso again with cross validation using [sklearn.linear_model.LassoCV](http://scikit-learn.org/stable/modules/generated/sklearn.linear_model.LassoCV.html). "
   ]
  },
  {
   "cell_type": "code",
   "execution_count": 110,
   "metadata": {},
   "outputs": [
    {
     "data": {
      "text/plain": [
       "LassoCV(alphas=None, copy_X=True, cv=10, eps=0.001, fit_intercept=True,\n",
       "        max_iter=10000, n_alphas=100, n_jobs=None, normalize=False,\n",
       "        positive=False, precompute='auto', random_state=None,\n",
       "        selection='cyclic', tol=0.0001, verbose=False)"
      ]
     },
     "execution_count": 110,
     "metadata": {},
     "output_type": "execute_result"
    }
   ],
   "source": [
    "#Fitting LassoCV\n",
    "lassocv = LassoCV(alphas=None, cv=10, max_iter=10000)\n",
    "lassocv.fit(X_train_scaled, Y_train)\n"
   ]
  },
  {
   "cell_type": "code",
   "execution_count": 111,
   "metadata": {},
   "outputs": [
    {
     "name": "stdout",
     "output_type": "stream",
     "text": [
      "Using LassoCV the best alpha is: 161.8017\n"
     ]
    }
   ],
   "source": [
    "#Print the alpha parameter obtained above\n",
    "print(\"Using LassoCV the best alpha is: %.4f\"\n",
    "      % lassocv.alpha_)"
   ]
  },
  {
   "cell_type": "code",
   "execution_count": 115,
   "metadata": {},
   "outputs": [
    {
     "name": "stdout",
     "output_type": "stream",
     "text": [
      "Lasso mean absolute error test (with alpha=161.8017) : 50681.9500\n",
      "Coefficients: \n",
      " [-83729.40788737 -88966.60778197  13793.24655891  -5441.52359581\n",
      "  24891.29887821 -48359.51663192  33593.70067617  79916.03828368\n",
      "  14815.92067716 -12517.52849661   2360.88791625]\n"
     ]
    }
   ],
   "source": [
    "#Fit lasso using the above alpha and report MAE on Test.\n",
    "best_lasso = Lasso(alpha=lassocv.alpha_)\n",
    "best_lasso.fit(X_train_scaled, Y_train)\n",
    "# Predict using test set\n",
    "Y_test_scaled_pred = best_lasso.predict(X_test_scaled)\n",
    "print(\"Lasso mean absolute error test (with alpha=161.8017) : %.4f\"\n",
    "      % mean_absolute_error(Y_test, Y_test_scaled_pred))\n",
    "\n",
    "# The coefficients\n",
    "print('Coefficients: \\n', best_lasso.coef_)"
   ]
  },
  {
   "cell_type": "markdown",
   "metadata": {},
   "source": [
    "The test performance and accuracy of the model improves as the number of examples in the training dataset increases. As training dataset increases in the number of examples the training error will increase, but the test error will decrease. The test error will decrease because are model is improving at prediction as we get more examples. The model becomes more realistic. The training error will increase because with more examples finding a better fit and minimizing the error becomes harder."
   ]
  }
 ],
 "metadata": {
  "anaconda-cloud": {},
  "kernelspec": {
   "display_name": "Python 3",
   "language": "python",
   "name": "python3"
  },
  "language_info": {
   "codemirror_mode": {
    "name": "ipython",
    "version": 3
   },
   "file_extension": ".py",
   "mimetype": "text/x-python",
   "name": "python",
   "nbconvert_exporter": "python",
   "pygments_lexer": "ipython3",
   "version": "3.7.6"
  }
 },
 "nbformat": 4,
 "nbformat_minor": 4
}
